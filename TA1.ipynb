{
 "cells": [
  {
   "cell_type": "markdown",
   "id": "e658bdeb-a0bb-4db4-9d8b-a6fb9333c07e",
   "metadata": {},
   "source": [
    "## Importação das bibliotecas"
   ]
  },
  {
   "cell_type": "code",
   "execution_count": null,
   "id": "7996048b-407d-4e7c-90f9-f5fcea1b2c9b",
   "metadata": {
    "tags": []
   },
   "outputs": [],
   "source": [
    "import cv2\n",
    "import numpy as np\n",
    "import matplotlib.pyplot as plt"
   ]
  },
  {
   "cell_type": "markdown",
   "id": "f43c06c9-85bc-4790-b1d6-3a848259a495",
   "metadata": {},
   "source": [
    "## Carregar imagem"
   ]
  },
  {
   "cell_type": "code",
   "execution_count": null,
   "id": "dba0d962-237a-4367-9731-5b81ef111e8a",
   "metadata": {
    "tags": []
   },
   "outputs": [],
   "source": [
    "original = cv2.imread('raiox-pulmao.png', cv2.IMREAD_GRAYSCALE)"
   ]
  },
  {
   "cell_type": "markdown",
   "id": "1f1d10ed-29b3-4496-9b9d-adaa59212407",
   "metadata": {
    "tags": []
   },
   "source": [
    "## Aplicação do filtro gaussiano"
   ]
  },
  {
   "cell_type": "code",
   "execution_count": null,
   "id": "3cc87134-83c7-4968-b9cd-1ae14ec8728e",
   "metadata": {
    "tags": []
   },
   "outputs": [],
   "source": [
    "img_filtered = cv2.GaussianBlur(original, (5, 5), 0)"
   ]
  },
  {
   "cell_type": "markdown",
   "id": "0070351f-63fb-4f4f-96e9-959eaa7b8d1a",
   "metadata": {},
   "source": [
    "## Limiarização de Otsu"
   ]
  },
  {
   "cell_type": "code",
   "execution_count": null,
   "id": "ca8a7ad4-49cf-4260-bfa9-b6d0e0fc4681",
   "metadata": {
    "tags": []
   },
   "outputs": [],
   "source": [
    "ret, img_thresh = cv2.threshold(img_filtered, 0, 255, cv2.THRESH_BINARY + cv2.THRESH_OTSU)"
   ]
  },
  {
   "cell_type": "markdown",
   "id": "803b5a98-9e13-4844-a5d5-2383f858c6eb",
   "metadata": {},
   "source": [
    "## Detecção de bordas com Canny"
   ]
  },
  {
   "cell_type": "code",
   "execution_count": null,
   "id": "adad94ab-6f9e-4c8b-ae35-422d9a407c4a",
   "metadata": {
    "tags": []
   },
   "outputs": [],
   "source": [
    "img_edges = cv2.Canny(img_thresh, 100, 200)\n",
    "\n",
    "# Dilatação para juntar bordas desconectadas\n",
    "kernel = np.ones((3, 3), np.uint8)\n",
    "img_dilated = cv2.dilate(img_edges, kernel, iterations=2)"
   ]
  },
  {
   "cell_type": "markdown",
   "id": "e7af4ac5-b2d6-4007-a8b0-8ba071243157",
   "metadata": {
    "tags": []
   },
   "source": [
    "## Detecção dos contornos dos pulmões"
   ]
  },
  {
   "cell_type": "code",
   "execution_count": null,
   "id": "ea5af8d7-d5c8-434f-9e0d-c1903eb1a501",
   "metadata": {
    "tags": []
   },
   "outputs": [],
   "source": [
    "contours, hierarchy = cv2.findContours(img_dilated, cv2.RETR_EXTERNAL, cv2.CHAIN_APPROX_SIMPLE)\n",
    "\n",
    "# Selecionar os dois maiores contornos (os pulmões)\n",
    "areas = [cv2.contourArea(c) for c in contours]\n",
    "sorted_areas = sorted(areas, reverse=True)\n",
    "largest_contours = sorted_areas[:2]\n",
    "lung_mask = np.zeros_like(img_dilated)\n",
    "\n",
    "for cnt in contours:\n",
    "    if cv2.contourArea(cnt) in largest_contours:\n",
    "        cv2.drawContours(lung_mask, [cnt], -1, 255, -1)\n",
    "\n",
    "# Aplicação da máscara para extrair apenas os pulmões\n",
    "lung = cv2.bitwise_and(original, original, mask=lung_mask)"
   ]
  },
  {
   "cell_type": "markdown",
   "id": "56c0ce3e-c850-4900-84dd-2265058ee2ae",
   "metadata": {},
   "source": [
    "## Exibição dos resultados"
   ]
  },
  {
   "cell_type": "code",
   "execution_count": null,
   "id": "1aa4077f-851d-4dd9-8943-a02ac8f1a690",
   "metadata": {
    "tags": []
   },
   "outputs": [],
   "source": [
    "fig, axs = plt.subplots(2, 2, figsize=(10, 10))\n",
    "axs[0, 0].imshow(original, cmap='gray')\n",
    "axs[0, 0].set_title('Imagem original')\n",
    "axs[0, 1].imshow(img_filtered, cmap='gray')\n",
    "axs[0, 1].set_title('Imagem após filtro gaussiano')\n",
    "axs[1, 0].imshow(img_thresh, cmap='gray')\n",
    "axs[1, 0].set_title('Imagem binarizada com Otsu')\n",
    "axs[1, 1].imshow(lung, cmap='gray')\n",
    "axs[1, 1].set_title('Segmentação dos pulmões')\n",
    "plt.show()"
   ]
  }
 ],
 "metadata": {
  "kernelspec": {
   "display_name": "Python 3 (ipykernel)",
   "language": "python",
   "name": "python3"
  },
  "language_info": {
   "codemirror_mode": {
    "name": "ipython",
    "version": 3
   },
   "file_extension": ".py",
   "mimetype": "text/x-python",
   "name": "python",
   "nbconvert_exporter": "python",
   "pygments_lexer": "ipython3",
   "version": "3.11.3"
  }
 },
 "nbformat": 4,
 "nbformat_minor": 5
}
